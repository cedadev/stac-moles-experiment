{
 "cells": [
  {
   "cell_type": "code",
   "execution_count": 6,
   "metadata": {},
   "outputs": [],
   "source": [
    "from elasticsearch import Elasticsearch\n",
    "import yaml\n",
    "import json"
   ]
  },
  {
   "cell_type": "code",
   "execution_count": 7,
   "metadata": {},
   "outputs": [],
   "source": [
    "def get_config():\n",
    "    with open('fastapi.yml', encoding='utf-8') as reader:\n",
    "        conf = yaml.safe_load(reader)\n",
    "    \n",
    "    es_conf = conf.get(\"ELASTICSEARCH\")\n",
    "\n",
    "    return es_conf"
   ]
  },
  {
   "cell_type": "code",
   "execution_count": 8,
   "metadata": {},
   "outputs": [],
   "source": [
    "conf = get_config()\n",
    "es = Elasticsearch(**conf['SESSION_KWARGS'])"
   ]
  },
  {
   "cell_type": "code",
   "execution_count": 9,
   "metadata": {},
   "outputs": [],
   "source": [
    "def print_geoextent(extent):\n",
    "    cords = extent['coordinates']\n",
    "    print(f'   {cords[0][1]:.2f}\\t')\n",
    "    print(f'{cords[0][0]:.2f}\\t{cords[1][0]:.2f}')\n",
    "    print(f'   {cords[1][1]:.2f}\\t')\n"
   ]
  },
  {
   "cell_type": "code",
   "execution_count": 10,
   "metadata": {},
   "outputs": [],
   "source": [
    "def print_record(record):\n",
    "    print(f'Record_type: {record[\"model\"]}')\n",
    "    print(f'Title: {record[\"title\"]}')\n",
    "    print(f'Keywords: {record[\"keywords\"]}')\n",
    "    print(f'Abstract: {record[\"abstract\"][:100]}...')\n",
    "    print_geoextent(record['geographicExtent'])\n",
    "    print()"
   ]
  },
  {
   "cell_type": "code",
   "execution_count": 11,
   "metadata": {},
   "outputs": [],
   "source": [
    "import collections\n",
    "\n",
    "def generate_dict(dep=1):\n",
    "    if dep == 1:\n",
    "        return collections.defaultdict(dict)\n",
    "    return collections.defaultdict(lambda: generate_dict(dep - 1))\n",
    "\n",
    "def filter_by_record_type(record_type = '', bbox = '', bbox_relation = 'intersect'):\n",
    "    # fancy thing found on stackoverflow\n",
    "    my_query = generate_dict(7)\n",
    "\n",
    "    if record_type:\n",
    "        my_query['query']['bool']['must']['terms']['model'] = record_type\n",
    "\n",
    "    if bbox:\n",
    "        my_query['query']['bool']['filter']['geo_shape']['geographicExtent']['shape']['type'] = 'envelope'\n",
    "        my_query['query']['bool']['filter']['geo_shape']['geographicExtent']['shape']['coordinates'] = bbox\n",
    "        my_query['query']['bool']['filter']['geo_shape']['geographicExtent']['relation'] = bbox_relation\n",
    "        \n",
    "    return f\"{json.dumps(my_query)}\""
   ]
  },
  {
   "cell_type": "code",
   "execution_count": 12,
   "metadata": {},
   "outputs": [
    {
     "name": "stdout",
     "output_type": "stream",
     "text": [
      "Record_type: observation\n",
      "Title: Daily Mean, Minimum and Maximum Central England Temperature series\n",
      "Keywords: HadCET, temperature, Hadley, Met Office\n",
      "Abstract: The longest available instrumental record of temperature in the world is now available at the BADC. ...\n",
      "   54.00\t\n",
      "-4.00\t1.00\n",
      "   51.00\t\n",
      "\n",
      "Record_type: observation\n",
      "Title: Flood Risk for Extreme Events (FREE): Wind profiler measurements from UK stations (June 2007-June 2009)\n",
      "Keywords: FREE, Wind Profiles\n",
      "Abstract: The Exploitation of new data sources, data assimilation and ensemble techniques for storm and flood ...\n",
      "   54.10\t\n",
      "-5.30\t1.00\n",
      "   50.20\t\n",
      "\n",
      "Record_type: observation\n",
      "Title: Flood Risk for Extreme Events (FREE): Model equivalent (radiosonde, radar, windprofiler) profiles from the UKMO UK 4km operational archives (June 2007-2009)\n",
      "Keywords: FREE, Radiosonde, Radar, Windprofiler\n",
      "Abstract: The Exploitation of new data sources, data assimilation and ensemble techniques for storm and flood ...\n",
      "   55.02\t\n",
      "-1.25\t0.32\n",
      "   51.20\t\n",
      "\n",
      "Record_type: observation\n",
      "Title: Polluted Troposphere Fronts: Met Office operational unified model (UM) pollutant transport simulations by the University of Reading\n",
      "Keywords: Polluted Troposphere, Front, meteorology, model\n",
      "Abstract: Transport and mixing in fronts was a Natural Environment Research Council (NERC) Polluted Tropospher...\n",
      "   51.44\t\n",
      "-0.95\t-0.95\n",
      "   51.44\t\n",
      "\n",
      "Record_type: observation\n",
      "Title: CAP: Vertical wind profile data from the Facility for Ground-based Atmospheric Measurements' (FGAM) 1290 MHz Degreane Mobile Wind Profiler located at the Weybourne Atmospheric Observatory\n",
      "Keywords:  CAP, Wind, meteorology\n",
      "Abstract: The Coastal Air Pollution (CAP) field campaigns in 2009 and 2010 (CAP-2009 and CAP-2010 respectively...\n",
      "   52.95\t\n",
      "1.12\t1.12\n",
      "   52.95\t\n",
      "\n",
      "Record_type: observation\n",
      "Title: ISB52: Doppler Lidar measurements from RAF Northolt and Malvern, UK\n",
      "Keywords: ISB52, lidar, atmosphere, boundary layer, air flow\n",
      "Abstract: This dataset contains Doppler lidar measurements from the ISB52 Improved Air Quality Forecasting pro...\n",
      "   52.11\t\n",
      "-2.31\t-0.42\n",
      "   51.55\t\n",
      "\n",
      "Record_type: observation\n",
      "Title: EASOE: Univerisity of College Wales Ozone DIAL LIDAR backscatter measurements at Aberystwyth, UK\n",
      "Keywords: EASOE, ozone, Lidar\n",
      "Abstract: The European Arctic Stratospheric Ozone Experiment is a European Commission (EC) measurement campaig...\n",
      "   52.42\t\n",
      "-4.01\t-4.01\n",
      "   52.42\t\n",
      "\n",
      "Record_type: observation\n",
      "Title: Polluted Troposphere IONS: Meteorological measurements from the University of Reading Atmospheric Observatory\n",
      "Keywords: Polluted Troposphere, Ionisation, Meteorology\n",
      "Abstract: Ionisation as a precursor to Aerosol Formation (also known as IONS) was a Natural Environment Resear...\n",
      "   51.44\t\n",
      "-0.95\t-0.95\n",
      "   51.44\t\n",
      "\n",
      "Record_type: observation\n",
      "Title: Polluted Troposphere IONS: Aerosol Geiger counter at the University of Reading Atmospheric Observatory\n",
      "Keywords: Polluted Troposphere, Ionisation, Chemistry\n",
      "Abstract: Ionisation as a precursor to Aerosol Formation (also known as IONS) was a Natural Environment Resear...\n",
      "   51.44\t\n",
      "-0.95\t-0.95\n",
      "   51.44\t\n",
      "\n",
      "Record_type: observation\n",
      "Title: Polluted Troposphere IONS: Aerosol Geiger counter and programmable ion mobility spectrometer measurements at Weybourne Atmospheric Observatory, Norfolk\n",
      "Keywords: Polluted Troposphere, IONS, Chemistry\n",
      "Abstract: Ionisation as a precursor to Aerosol Formation (also known as IONS) was a Natural Environment Resear...\n",
      "   52.95\t\n",
      "1.12\t1.12\n",
      "   52.95\t\n",
      "\n"
     ]
    }
   ],
   "source": [
    "my_query = filter_by_record_type(record_type=['observation'], bbox = [[-8, 59], [2, 49]], bbox_relation='within')\n",
    "my_query\n",
    "hits = es.search(index=\"stac-moles-test\", body=my_query)\n",
    "\n",
    "for i in hits['hits']['hits']:\n",
    "    fields = i['_source']\n",
    "    print_record(fields)\n"
   ]
  },
  {
   "cell_type": "code",
   "execution_count": 21,
   "metadata": {},
   "outputs": [
    {
     "data": {
      "text/plain": [
       "{'priority': 1,\n",
       " 'party': {'firstName': '',\n",
       "  'lastName': 'NCAS British Atmospheric Data Centre (NCAS BADC)',\n",
       "  'partyType': 'organisation',\n",
       "  'description': \"The British Atmospheric Data Centre (BADC) is the Natural Environment Research Council's (NERC) Designated Data Centre for the Atmospheric Sciences. The role of the BADC is to assist UK atmospheric researchers to locate, access and interpret atmospheric data and to ensure the long-term integrity of atmospheric data produced by NERC projects. The BADC is run by he Centre for Environmental Data Archival (CEDA).\",\n",
       "  'deliveryPoint': 'British Atmospheric Data Centre',\n",
       "  'administrativeArea': 'STFC Rutherford Appleton Laboratory',\n",
       "  'city': 'Harwell Oxford',\n",
       "  'country': 'UK',\n",
       "  'postalCode': 'OX11 0QX',\n",
       "  'electronicEmailAddress': 'badc@rl.ac.uk',\n",
       "  'phone': '+44(0)1235 446432',\n",
       "  'onlineResource': 'http://badc.rl.ac.uk/'},\n",
       " 'role': 'metadata_owner'}"
      ]
     },
     "execution_count": 21,
     "metadata": {},
     "output_type": "execute_result"
    }
   ],
   "source": [
    "hits['hits']['hits'][0]['_source']['responsiblePartyInfo']"
   ]
  },
  {
   "cell_type": "code",
   "execution_count": null,
   "metadata": {},
   "outputs": [],
   "source": []
  }
 ],
 "metadata": {
  "kernelspec": {
   "display_name": "Python 3.10.6 64-bit",
   "language": "python",
   "name": "python3"
  },
  "language_info": {
   "codemirror_mode": {
    "name": "ipython",
    "version": 3
   },
   "file_extension": ".py",
   "mimetype": "text/x-python",
   "name": "python",
   "nbconvert_exporter": "python",
   "pygments_lexer": "ipython3",
   "version": "3.10.6"
  },
  "orig_nbformat": 4,
  "vscode": {
   "interpreter": {
    "hash": "aee8b7b246df8f9039afb4144a1f6fd8d2ca17a180786b69acc140d282b71a49"
   }
  }
 },
 "nbformat": 4,
 "nbformat_minor": 2
}
