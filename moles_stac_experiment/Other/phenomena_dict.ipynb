{
 "cells": [
  {
   "cell_type": "code",
   "execution_count": 1,
   "metadata": {},
   "outputs": [],
   "source": [
    "from elasticsearch import Elasticsearch\n",
    "import yaml\n",
    "import json\n",
    "from collections import defaultdict"
   ]
  },
  {
   "cell_type": "code",
   "execution_count": 2,
   "metadata": {},
   "outputs": [],
   "source": [
    "def get_config():\n",
    "    with open('fastapi.yml', encoding='utf-8') as reader:\n",
    "        conf = yaml.safe_load(reader)\n",
    "    \n",
    "    es_conf = conf.get(\"ELASTICSEARCH\")\n",
    "\n",
    "    return es_conf"
   ]
  },
  {
   "cell_type": "code",
   "execution_count": 3,
   "metadata": {},
   "outputs": [
    {
     "name": "stderr",
     "output_type": "stream",
     "text": [
      "/home/users/adr8688/.local/lib/python3.6/site-packages/ipykernel_launcher.py:8: DeprecationWarning: The 'body' parameter is deprecated for the 'search' API and will be removed in a future version. Instead use API parameters directly. See https://github.com/elastic/elasticsearch-py/issues/1698 for more information\n",
      "  \n"
     ]
    }
   ],
   "source": [
    "conf = get_config()\n",
    "es = Elasticsearch(**conf['SESSION_KWARGS'])\n",
    "my_index = 'fbi-2022'\n",
    "my_query = dict()\n",
    "with open('my_query.json') as f:\n",
    "    my_query = json.load(f)\n",
    "\n",
    "response = es.search(index=my_index, body=my_query)"
   ]
  },
  {
   "cell_type": "code",
   "execution_count": null,
   "metadata": {},
   "outputs": [],
   "source": [
    "def splitting_by_semicolon(my_dict):\n",
    "    return {k: v.split(';') if ';' in v else v for k, v in my_dict.items()}"
   ]
  },
  {
   "cell_type": "code",
   "execution_count": null,
   "metadata": {},
   "outputs": [],
   "source": [
    "def agg_string_to_dict(agg_string):\n",
    "    result = f'{{{agg_string}}}'\n",
    "    result = result.replace('\\t', '')\n",
    "    result = result.replace('\\\\', '/')\n",
    "    result = result.replace('\\n', '')\n",
    "    \n",
    "    semicolons = [n for n, i in enumerate(result) if i ==';']\n",
    "    for x, s in enumerate(semicolons):\n",
    "        threshold = s - x * 2\n",
    "        result = result[:threshold - 1] + ';' + result[threshold + 2:]\n",
    "        \n",
    "    result = json.loads(result)\n",
    "    result = splitting_by_semicolon(result)\n",
    "\n",
    "    return result"
   ]
  },
  {
   "cell_type": "code",
   "execution_count": null,
   "metadata": {},
   "outputs": [
    {
     "name": "stderr",
     "output_type": "stream",
     "text": [
      "/home/users/adr8688/.local/lib/python3.6/site-packages/ipykernel_launcher.py:1: DeprecationWarning: The 'body' parameter is deprecated for the 'search' API and will be removed in a future version. Instead use API parameters directly. See https://github.com/elastic/elasticsearch-py/issues/1698 for more information\n",
      "  \"\"\"Entry point for launching an IPython kernel.\n"
     ]
    }
   ],
   "source": [
    "buckets = response['aggregations']['dirs']['buckets']\n",
    "output = [agg_string_to_dict(b['key']) for b in buckets]"
   ]
  },
  {
   "cell_type": "code",
   "execution_count": null,
   "metadata": {},
   "outputs": [],
   "source": [
    "with open('vars.json', 'w') as f:\n",
    "    json.dump(output, f, indent=2)"
   ]
  },
  {
   "cell_type": "code",
   "execution_count": null,
   "metadata": {},
   "outputs": [
    {
     "data": {
      "text/plain": [
       "32065"
      ]
     },
     "execution_count": 14,
     "metadata": {},
     "output_type": "execute_result"
    }
   ],
   "source": [
    "len(output)"
   ]
  },
  {
   "cell_type": "code",
   "execution_count": null,
   "metadata": {},
   "outputs": [],
   "source": []
  }
 ],
 "metadata": {
  "kernelspec": {
   "display_name": "Python 3.9.6 64-bit",
   "language": "python",
   "name": "python3"
  },
  "language_info": {
   "codemirror_mode": {
    "name": "ipython",
    "version": 3
   },
   "file_extension": ".py",
   "mimetype": "text/x-python",
   "name": "python",
   "nbconvert_exporter": "python",
   "pygments_lexer": "ipython3",
   "version": "3.6.8"
  },
  "orig_nbformat": 4,
  "vscode": {
   "interpreter": {
    "hash": "31f2aee4e71d21fbe5cf8b01ff0e069b9275f58929596ceb00d14d90e3e16cd6"
   }
  }
 },
 "nbformat": 4,
 "nbformat_minor": 2
}
